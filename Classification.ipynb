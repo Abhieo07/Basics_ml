{
  "nbformat": 4,
  "nbformat_minor": 0,
  "metadata": {
    "colab": {
      "provenance": [],
      "authorship_tag": "ABX9TyOhTeJ6cCS7kima+KIBnTaF",
      "include_colab_link": true
    },
    "kernelspec": {
      "name": "python3",
      "display_name": "Python 3"
    },
    "language_info": {
      "name": "python"
    }
  },
  "cells": [
    {
      "cell_type": "markdown",
      "metadata": {
        "id": "view-in-github",
        "colab_type": "text"
      },
      "source": [
        "<a href=\"https://colab.research.google.com/github/Abhieo07/Basics_ml/blob/main/Classification.ipynb\" target=\"_parent\"><img src=\"https://colab.research.google.com/assets/colab-badge.svg\" alt=\"Open In Colab\"/></a>"
      ]
    },
    {
      "cell_type": "code",
      "execution_count": null,
      "metadata": {
        "colab": {
          "base_uri": "https://localhost:8080/"
        },
        "id": "DWsmfiaFEDte",
        "outputId": "f8e0dac8-467f-4b90-8cb8-4d86a7e25dc1"
      },
      "outputs": [
        {
          "output_type": "stream",
          "name": "stdout",
          "text": [
            "Colab only includes TensorFlow 2.x; %tensorflow_version has no effect.\n",
            "<module 'tensorflow._api.v2.version' from '/usr/local/lib/python3.10/dist-packages/tensorflow/_api/v2/version/__init__.py'>\n"
          ]
        }
      ],
      "source": [
        "import tensorflow as tf\n",
        "%tensorflow_version 2.x\n",
        "print(tf.version)\n",
        "\n",
        "from __future__ import absolute_import, division, print_function, unicode_literals\n",
        "\n",
        "import matplotlib.pyplot as plt\n",
        "import numpy as np\n",
        "import pandas as pd\n",
        "from IPython.display import clear_output\n",
        "# %tensorflow_version2.x\n",
        "import tensorflow.compat.v2.feature_column as fc\n",
        "# from six.moves import urllib"
      ]
    },
    {
      "cell_type": "markdown",
      "source": [
        "#Classification"
      ],
      "metadata": {
        "id": "omy8c20zu04Q"
      }
    },
    {
      "cell_type": "code",
      "source": [
        "CSV_COLUMN_NAMES = ['SepalLength', 'SepalWidth', 'PetalLength', 'PetalWidth', 'Species']\n",
        "SPECIES = ['Setosa', 'Versicolor', 'Virginica']"
      ],
      "metadata": {
        "id": "s2DtfXQmu4Q0"
      },
      "execution_count": null,
      "outputs": []
    },
    {
      "cell_type": "code",
      "source": [
        "train_path = tf.keras.utils.get_file(\n",
        "    \"iris_training.csv\", \"https://storage.googleapis.com/download.tensorflow.org/data/iris_training.csv\")\n",
        "test_path = tf.keras.utils.get_file(\n",
        "    \"iris_test.csv\", \"https://storage.googleapis.com/download.tensorflow.org/data/iris_test.csv\")\n",
        "\n",
        "train = pd.read_csv(train_path, names=CSV_COLUMN_NAMES,header=0)\n",
        "test = pd.read_csv(test_path, names=CSV_COLUMN_NAMES,header=0)\n"
      ],
      "metadata": {
        "id": "KxNnKlXi8p9j",
        "colab": {
          "base_uri": "https://localhost:8080/"
        },
        "outputId": "39b9333a-740a-453a-e8f2-48959459f3d9"
      },
      "execution_count": null,
      "outputs": [
        {
          "output_type": "stream",
          "name": "stdout",
          "text": [
            "Downloading data from https://storage.googleapis.com/download.tensorflow.org/data/iris_training.csv\n",
            "2194/2194 [==============================] - 0s 0us/step\n",
            "Downloading data from https://storage.googleapis.com/download.tensorflow.org/data/iris_test.csv\n",
            "573/573 [==============================] - 0s 0us/step\n"
          ]
        }
      ]
    },
    {
      "cell_type": "code",
      "source": [
        "train.head()"
      ],
      "metadata": {
        "colab": {
          "base_uri": "https://localhost:8080/",
          "height": 206
        },
        "id": "KH5k4KK6-mUy",
        "outputId": "a24cd3e8-56ed-49bb-a314-b13fca32fd87"
      },
      "execution_count": null,
      "outputs": [
        {
          "output_type": "execute_result",
          "data": {
            "text/plain": [
              "   SepalLength  SepalWidth  PetalLength  PetalWidth  Species\n",
              "0          6.4         2.8          5.6         2.2        2\n",
              "1          5.0         2.3          3.3         1.0        1\n",
              "2          4.9         2.5          4.5         1.7        2\n",
              "3          4.9         3.1          1.5         0.1        0\n",
              "4          5.7         3.8          1.7         0.3        0"
            ],
            "text/html": [
              "\n",
              "  <div id=\"df-36dfc680-637f-4581-a355-8c15366f969f\" class=\"colab-df-container\">\n",
              "    <div>\n",
              "<style scoped>\n",
              "    .dataframe tbody tr th:only-of-type {\n",
              "        vertical-align: middle;\n",
              "    }\n",
              "\n",
              "    .dataframe tbody tr th {\n",
              "        vertical-align: top;\n",
              "    }\n",
              "\n",
              "    .dataframe thead th {\n",
              "        text-align: right;\n",
              "    }\n",
              "</style>\n",
              "<table border=\"1\" class=\"dataframe\">\n",
              "  <thead>\n",
              "    <tr style=\"text-align: right;\">\n",
              "      <th></th>\n",
              "      <th>SepalLength</th>\n",
              "      <th>SepalWidth</th>\n",
              "      <th>PetalLength</th>\n",
              "      <th>PetalWidth</th>\n",
              "      <th>Species</th>\n",
              "    </tr>\n",
              "  </thead>\n",
              "  <tbody>\n",
              "    <tr>\n",
              "      <th>0</th>\n",
              "      <td>6.4</td>\n",
              "      <td>2.8</td>\n",
              "      <td>5.6</td>\n",
              "      <td>2.2</td>\n",
              "      <td>2</td>\n",
              "    </tr>\n",
              "    <tr>\n",
              "      <th>1</th>\n",
              "      <td>5.0</td>\n",
              "      <td>2.3</td>\n",
              "      <td>3.3</td>\n",
              "      <td>1.0</td>\n",
              "      <td>1</td>\n",
              "    </tr>\n",
              "    <tr>\n",
              "      <th>2</th>\n",
              "      <td>4.9</td>\n",
              "      <td>2.5</td>\n",
              "      <td>4.5</td>\n",
              "      <td>1.7</td>\n",
              "      <td>2</td>\n",
              "    </tr>\n",
              "    <tr>\n",
              "      <th>3</th>\n",
              "      <td>4.9</td>\n",
              "      <td>3.1</td>\n",
              "      <td>1.5</td>\n",
              "      <td>0.1</td>\n",
              "      <td>0</td>\n",
              "    </tr>\n",
              "    <tr>\n",
              "      <th>4</th>\n",
              "      <td>5.7</td>\n",
              "      <td>3.8</td>\n",
              "      <td>1.7</td>\n",
              "      <td>0.3</td>\n",
              "      <td>0</td>\n",
              "    </tr>\n",
              "  </tbody>\n",
              "</table>\n",
              "</div>\n",
              "    <div class=\"colab-df-buttons\">\n",
              "\n",
              "  <div class=\"colab-df-container\">\n",
              "    <button class=\"colab-df-convert\" onclick=\"convertToInteractive('df-36dfc680-637f-4581-a355-8c15366f969f')\"\n",
              "            title=\"Convert this dataframe to an interactive table.\"\n",
              "            style=\"display:none;\">\n",
              "\n",
              "  <svg xmlns=\"http://www.w3.org/2000/svg\" height=\"24px\" viewBox=\"0 -960 960 960\">\n",
              "    <path d=\"M120-120v-720h720v720H120Zm60-500h600v-160H180v160Zm220 220h160v-160H400v160Zm0 220h160v-160H400v160ZM180-400h160v-160H180v160Zm440 0h160v-160H620v160ZM180-180h160v-160H180v160Zm440 0h160v-160H620v160Z\"/>\n",
              "  </svg>\n",
              "    </button>\n",
              "\n",
              "  <style>\n",
              "    .colab-df-container {\n",
              "      display:flex;\n",
              "      gap: 12px;\n",
              "    }\n",
              "\n",
              "    .colab-df-convert {\n",
              "      background-color: #E8F0FE;\n",
              "      border: none;\n",
              "      border-radius: 50%;\n",
              "      cursor: pointer;\n",
              "      display: none;\n",
              "      fill: #1967D2;\n",
              "      height: 32px;\n",
              "      padding: 0 0 0 0;\n",
              "      width: 32px;\n",
              "    }\n",
              "\n",
              "    .colab-df-convert:hover {\n",
              "      background-color: #E2EBFA;\n",
              "      box-shadow: 0px 1px 2px rgba(60, 64, 67, 0.3), 0px 1px 3px 1px rgba(60, 64, 67, 0.15);\n",
              "      fill: #174EA6;\n",
              "    }\n",
              "\n",
              "    .colab-df-buttons div {\n",
              "      margin-bottom: 4px;\n",
              "    }\n",
              "\n",
              "    [theme=dark] .colab-df-convert {\n",
              "      background-color: #3B4455;\n",
              "      fill: #D2E3FC;\n",
              "    }\n",
              "\n",
              "    [theme=dark] .colab-df-convert:hover {\n",
              "      background-color: #434B5C;\n",
              "      box-shadow: 0px 1px 3px 1px rgba(0, 0, 0, 0.15);\n",
              "      filter: drop-shadow(0px 1px 2px rgba(0, 0, 0, 0.3));\n",
              "      fill: #FFFFFF;\n",
              "    }\n",
              "  </style>\n",
              "\n",
              "    <script>\n",
              "      const buttonEl =\n",
              "        document.querySelector('#df-36dfc680-637f-4581-a355-8c15366f969f button.colab-df-convert');\n",
              "      buttonEl.style.display =\n",
              "        google.colab.kernel.accessAllowed ? 'block' : 'none';\n",
              "\n",
              "      async function convertToInteractive(key) {\n",
              "        const element = document.querySelector('#df-36dfc680-637f-4581-a355-8c15366f969f');\n",
              "        const dataTable =\n",
              "          await google.colab.kernel.invokeFunction('convertToInteractive',\n",
              "                                                    [key], {});\n",
              "        if (!dataTable) return;\n",
              "\n",
              "        const docLinkHtml = 'Like what you see? Visit the ' +\n",
              "          '<a target=\"_blank\" href=https://colab.research.google.com/notebooks/data_table.ipynb>data table notebook</a>'\n",
              "          + ' to learn more about interactive tables.';\n",
              "        element.innerHTML = '';\n",
              "        dataTable['output_type'] = 'display_data';\n",
              "        await google.colab.output.renderOutput(dataTable, element);\n",
              "        const docLink = document.createElement('div');\n",
              "        docLink.innerHTML = docLinkHtml;\n",
              "        element.appendChild(docLink);\n",
              "      }\n",
              "    </script>\n",
              "  </div>\n",
              "\n",
              "\n",
              "<div id=\"df-e1a346f4-4016-4072-a8f4-39a2b02c7da6\">\n",
              "  <button class=\"colab-df-quickchart\" onclick=\"quickchart('df-e1a346f4-4016-4072-a8f4-39a2b02c7da6')\"\n",
              "            title=\"Suggest charts.\"\n",
              "            style=\"display:none;\">\n",
              "\n",
              "<svg xmlns=\"http://www.w3.org/2000/svg\" height=\"24px\"viewBox=\"0 0 24 24\"\n",
              "     width=\"24px\">\n",
              "    <g>\n",
              "        <path d=\"M19 3H5c-1.1 0-2 .9-2 2v14c0 1.1.9 2 2 2h14c1.1 0 2-.9 2-2V5c0-1.1-.9-2-2-2zM9 17H7v-7h2v7zm4 0h-2V7h2v10zm4 0h-2v-4h2v4z\"/>\n",
              "    </g>\n",
              "</svg>\n",
              "  </button>\n",
              "\n",
              "<style>\n",
              "  .colab-df-quickchart {\n",
              "      --bg-color: #E8F0FE;\n",
              "      --fill-color: #1967D2;\n",
              "      --hover-bg-color: #E2EBFA;\n",
              "      --hover-fill-color: #174EA6;\n",
              "      --disabled-fill-color: #AAA;\n",
              "      --disabled-bg-color: #DDD;\n",
              "  }\n",
              "\n",
              "  [theme=dark] .colab-df-quickchart {\n",
              "      --bg-color: #3B4455;\n",
              "      --fill-color: #D2E3FC;\n",
              "      --hover-bg-color: #434B5C;\n",
              "      --hover-fill-color: #FFFFFF;\n",
              "      --disabled-bg-color: #3B4455;\n",
              "      --disabled-fill-color: #666;\n",
              "  }\n",
              "\n",
              "  .colab-df-quickchart {\n",
              "    background-color: var(--bg-color);\n",
              "    border: none;\n",
              "    border-radius: 50%;\n",
              "    cursor: pointer;\n",
              "    display: none;\n",
              "    fill: var(--fill-color);\n",
              "    height: 32px;\n",
              "    padding: 0;\n",
              "    width: 32px;\n",
              "  }\n",
              "\n",
              "  .colab-df-quickchart:hover {\n",
              "    background-color: var(--hover-bg-color);\n",
              "    box-shadow: 0 1px 2px rgba(60, 64, 67, 0.3), 0 1px 3px 1px rgba(60, 64, 67, 0.15);\n",
              "    fill: var(--button-hover-fill-color);\n",
              "  }\n",
              "\n",
              "  .colab-df-quickchart-complete:disabled,\n",
              "  .colab-df-quickchart-complete:disabled:hover {\n",
              "    background-color: var(--disabled-bg-color);\n",
              "    fill: var(--disabled-fill-color);\n",
              "    box-shadow: none;\n",
              "  }\n",
              "\n",
              "  .colab-df-spinner {\n",
              "    border: 2px solid var(--fill-color);\n",
              "    border-color: transparent;\n",
              "    border-bottom-color: var(--fill-color);\n",
              "    animation:\n",
              "      spin 1s steps(1) infinite;\n",
              "  }\n",
              "\n",
              "  @keyframes spin {\n",
              "    0% {\n",
              "      border-color: transparent;\n",
              "      border-bottom-color: var(--fill-color);\n",
              "      border-left-color: var(--fill-color);\n",
              "    }\n",
              "    20% {\n",
              "      border-color: transparent;\n",
              "      border-left-color: var(--fill-color);\n",
              "      border-top-color: var(--fill-color);\n",
              "    }\n",
              "    30% {\n",
              "      border-color: transparent;\n",
              "      border-left-color: var(--fill-color);\n",
              "      border-top-color: var(--fill-color);\n",
              "      border-right-color: var(--fill-color);\n",
              "    }\n",
              "    40% {\n",
              "      border-color: transparent;\n",
              "      border-right-color: var(--fill-color);\n",
              "      border-top-color: var(--fill-color);\n",
              "    }\n",
              "    60% {\n",
              "      border-color: transparent;\n",
              "      border-right-color: var(--fill-color);\n",
              "    }\n",
              "    80% {\n",
              "      border-color: transparent;\n",
              "      border-right-color: var(--fill-color);\n",
              "      border-bottom-color: var(--fill-color);\n",
              "    }\n",
              "    90% {\n",
              "      border-color: transparent;\n",
              "      border-bottom-color: var(--fill-color);\n",
              "    }\n",
              "  }\n",
              "</style>\n",
              "\n",
              "  <script>\n",
              "    async function quickchart(key) {\n",
              "      const quickchartButtonEl =\n",
              "        document.querySelector('#' + key + ' button');\n",
              "      quickchartButtonEl.disabled = true;  // To prevent multiple clicks.\n",
              "      quickchartButtonEl.classList.add('colab-df-spinner');\n",
              "      try {\n",
              "        const charts = await google.colab.kernel.invokeFunction(\n",
              "            'suggestCharts', [key], {});\n",
              "      } catch (error) {\n",
              "        console.error('Error during call to suggestCharts:', error);\n",
              "      }\n",
              "      quickchartButtonEl.classList.remove('colab-df-spinner');\n",
              "      quickchartButtonEl.classList.add('colab-df-quickchart-complete');\n",
              "    }\n",
              "    (() => {\n",
              "      let quickchartButtonEl =\n",
              "        document.querySelector('#df-e1a346f4-4016-4072-a8f4-39a2b02c7da6 button');\n",
              "      quickchartButtonEl.style.display =\n",
              "        google.colab.kernel.accessAllowed ? 'block' : 'none';\n",
              "    })();\n",
              "  </script>\n",
              "</div>\n",
              "    </div>\n",
              "  </div>\n"
            ]
          },
          "metadata": {},
          "execution_count": 4
        }
      ]
    },
    {
      "cell_type": "code",
      "source": [
        "train_y = train.pop('Species')\n",
        "test_y = test.pop('Species')\n",
        "train.head()"
      ],
      "metadata": {
        "colab": {
          "base_uri": "https://localhost:8080/",
          "height": 206
        },
        "id": "Pr8k6SWJ-82E",
        "outputId": "7375bca9-0151-4feb-fd67-70228c42dc5f"
      },
      "execution_count": null,
      "outputs": [
        {
          "output_type": "execute_result",
          "data": {
            "text/plain": [
              "   SepalLength  SepalWidth  PetalLength  PetalWidth\n",
              "0          6.4         2.8          5.6         2.2\n",
              "1          5.0         2.3          3.3         1.0\n",
              "2          4.9         2.5          4.5         1.7\n",
              "3          4.9         3.1          1.5         0.1\n",
              "4          5.7         3.8          1.7         0.3"
            ],
            "text/html": [
              "\n",
              "  <div id=\"df-3c98ac18-ac8e-4018-ad4d-41680d419ccd\" class=\"colab-df-container\">\n",
              "    <div>\n",
              "<style scoped>\n",
              "    .dataframe tbody tr th:only-of-type {\n",
              "        vertical-align: middle;\n",
              "    }\n",
              "\n",
              "    .dataframe tbody tr th {\n",
              "        vertical-align: top;\n",
              "    }\n",
              "\n",
              "    .dataframe thead th {\n",
              "        text-align: right;\n",
              "    }\n",
              "</style>\n",
              "<table border=\"1\" class=\"dataframe\">\n",
              "  <thead>\n",
              "    <tr style=\"text-align: right;\">\n",
              "      <th></th>\n",
              "      <th>SepalLength</th>\n",
              "      <th>SepalWidth</th>\n",
              "      <th>PetalLength</th>\n",
              "      <th>PetalWidth</th>\n",
              "    </tr>\n",
              "  </thead>\n",
              "  <tbody>\n",
              "    <tr>\n",
              "      <th>0</th>\n",
              "      <td>6.4</td>\n",
              "      <td>2.8</td>\n",
              "      <td>5.6</td>\n",
              "      <td>2.2</td>\n",
              "    </tr>\n",
              "    <tr>\n",
              "      <th>1</th>\n",
              "      <td>5.0</td>\n",
              "      <td>2.3</td>\n",
              "      <td>3.3</td>\n",
              "      <td>1.0</td>\n",
              "    </tr>\n",
              "    <tr>\n",
              "      <th>2</th>\n",
              "      <td>4.9</td>\n",
              "      <td>2.5</td>\n",
              "      <td>4.5</td>\n",
              "      <td>1.7</td>\n",
              "    </tr>\n",
              "    <tr>\n",
              "      <th>3</th>\n",
              "      <td>4.9</td>\n",
              "      <td>3.1</td>\n",
              "      <td>1.5</td>\n",
              "      <td>0.1</td>\n",
              "    </tr>\n",
              "    <tr>\n",
              "      <th>4</th>\n",
              "      <td>5.7</td>\n",
              "      <td>3.8</td>\n",
              "      <td>1.7</td>\n",
              "      <td>0.3</td>\n",
              "    </tr>\n",
              "  </tbody>\n",
              "</table>\n",
              "</div>\n",
              "    <div class=\"colab-df-buttons\">\n",
              "\n",
              "  <div class=\"colab-df-container\">\n",
              "    <button class=\"colab-df-convert\" onclick=\"convertToInteractive('df-3c98ac18-ac8e-4018-ad4d-41680d419ccd')\"\n",
              "            title=\"Convert this dataframe to an interactive table.\"\n",
              "            style=\"display:none;\">\n",
              "\n",
              "  <svg xmlns=\"http://www.w3.org/2000/svg\" height=\"24px\" viewBox=\"0 -960 960 960\">\n",
              "    <path d=\"M120-120v-720h720v720H120Zm60-500h600v-160H180v160Zm220 220h160v-160H400v160Zm0 220h160v-160H400v160ZM180-400h160v-160H180v160Zm440 0h160v-160H620v160ZM180-180h160v-160H180v160Zm440 0h160v-160H620v160Z\"/>\n",
              "  </svg>\n",
              "    </button>\n",
              "\n",
              "  <style>\n",
              "    .colab-df-container {\n",
              "      display:flex;\n",
              "      gap: 12px;\n",
              "    }\n",
              "\n",
              "    .colab-df-convert {\n",
              "      background-color: #E8F0FE;\n",
              "      border: none;\n",
              "      border-radius: 50%;\n",
              "      cursor: pointer;\n",
              "      display: none;\n",
              "      fill: #1967D2;\n",
              "      height: 32px;\n",
              "      padding: 0 0 0 0;\n",
              "      width: 32px;\n",
              "    }\n",
              "\n",
              "    .colab-df-convert:hover {\n",
              "      background-color: #E2EBFA;\n",
              "      box-shadow: 0px 1px 2px rgba(60, 64, 67, 0.3), 0px 1px 3px 1px rgba(60, 64, 67, 0.15);\n",
              "      fill: #174EA6;\n",
              "    }\n",
              "\n",
              "    .colab-df-buttons div {\n",
              "      margin-bottom: 4px;\n",
              "    }\n",
              "\n",
              "    [theme=dark] .colab-df-convert {\n",
              "      background-color: #3B4455;\n",
              "      fill: #D2E3FC;\n",
              "    }\n",
              "\n",
              "    [theme=dark] .colab-df-convert:hover {\n",
              "      background-color: #434B5C;\n",
              "      box-shadow: 0px 1px 3px 1px rgba(0, 0, 0, 0.15);\n",
              "      filter: drop-shadow(0px 1px 2px rgba(0, 0, 0, 0.3));\n",
              "      fill: #FFFFFF;\n",
              "    }\n",
              "  </style>\n",
              "\n",
              "    <script>\n",
              "      const buttonEl =\n",
              "        document.querySelector('#df-3c98ac18-ac8e-4018-ad4d-41680d419ccd button.colab-df-convert');\n",
              "      buttonEl.style.display =\n",
              "        google.colab.kernel.accessAllowed ? 'block' : 'none';\n",
              "\n",
              "      async function convertToInteractive(key) {\n",
              "        const element = document.querySelector('#df-3c98ac18-ac8e-4018-ad4d-41680d419ccd');\n",
              "        const dataTable =\n",
              "          await google.colab.kernel.invokeFunction('convertToInteractive',\n",
              "                                                    [key], {});\n",
              "        if (!dataTable) return;\n",
              "\n",
              "        const docLinkHtml = 'Like what you see? Visit the ' +\n",
              "          '<a target=\"_blank\" href=https://colab.research.google.com/notebooks/data_table.ipynb>data table notebook</a>'\n",
              "          + ' to learn more about interactive tables.';\n",
              "        element.innerHTML = '';\n",
              "        dataTable['output_type'] = 'display_data';\n",
              "        await google.colab.output.renderOutput(dataTable, element);\n",
              "        const docLink = document.createElement('div');\n",
              "        docLink.innerHTML = docLinkHtml;\n",
              "        element.appendChild(docLink);\n",
              "      }\n",
              "    </script>\n",
              "  </div>\n",
              "\n",
              "\n",
              "<div id=\"df-8243edf1-a075-4b7e-8fcd-6a74011b7106\">\n",
              "  <button class=\"colab-df-quickchart\" onclick=\"quickchart('df-8243edf1-a075-4b7e-8fcd-6a74011b7106')\"\n",
              "            title=\"Suggest charts.\"\n",
              "            style=\"display:none;\">\n",
              "\n",
              "<svg xmlns=\"http://www.w3.org/2000/svg\" height=\"24px\"viewBox=\"0 0 24 24\"\n",
              "     width=\"24px\">\n",
              "    <g>\n",
              "        <path d=\"M19 3H5c-1.1 0-2 .9-2 2v14c0 1.1.9 2 2 2h14c1.1 0 2-.9 2-2V5c0-1.1-.9-2-2-2zM9 17H7v-7h2v7zm4 0h-2V7h2v10zm4 0h-2v-4h2v4z\"/>\n",
              "    </g>\n",
              "</svg>\n",
              "  </button>\n",
              "\n",
              "<style>\n",
              "  .colab-df-quickchart {\n",
              "      --bg-color: #E8F0FE;\n",
              "      --fill-color: #1967D2;\n",
              "      --hover-bg-color: #E2EBFA;\n",
              "      --hover-fill-color: #174EA6;\n",
              "      --disabled-fill-color: #AAA;\n",
              "      --disabled-bg-color: #DDD;\n",
              "  }\n",
              "\n",
              "  [theme=dark] .colab-df-quickchart {\n",
              "      --bg-color: #3B4455;\n",
              "      --fill-color: #D2E3FC;\n",
              "      --hover-bg-color: #434B5C;\n",
              "      --hover-fill-color: #FFFFFF;\n",
              "      --disabled-bg-color: #3B4455;\n",
              "      --disabled-fill-color: #666;\n",
              "  }\n",
              "\n",
              "  .colab-df-quickchart {\n",
              "    background-color: var(--bg-color);\n",
              "    border: none;\n",
              "    border-radius: 50%;\n",
              "    cursor: pointer;\n",
              "    display: none;\n",
              "    fill: var(--fill-color);\n",
              "    height: 32px;\n",
              "    padding: 0;\n",
              "    width: 32px;\n",
              "  }\n",
              "\n",
              "  .colab-df-quickchart:hover {\n",
              "    background-color: var(--hover-bg-color);\n",
              "    box-shadow: 0 1px 2px rgba(60, 64, 67, 0.3), 0 1px 3px 1px rgba(60, 64, 67, 0.15);\n",
              "    fill: var(--button-hover-fill-color);\n",
              "  }\n",
              "\n",
              "  .colab-df-quickchart-complete:disabled,\n",
              "  .colab-df-quickchart-complete:disabled:hover {\n",
              "    background-color: var(--disabled-bg-color);\n",
              "    fill: var(--disabled-fill-color);\n",
              "    box-shadow: none;\n",
              "  }\n",
              "\n",
              "  .colab-df-spinner {\n",
              "    border: 2px solid var(--fill-color);\n",
              "    border-color: transparent;\n",
              "    border-bottom-color: var(--fill-color);\n",
              "    animation:\n",
              "      spin 1s steps(1) infinite;\n",
              "  }\n",
              "\n",
              "  @keyframes spin {\n",
              "    0% {\n",
              "      border-color: transparent;\n",
              "      border-bottom-color: var(--fill-color);\n",
              "      border-left-color: var(--fill-color);\n",
              "    }\n",
              "    20% {\n",
              "      border-color: transparent;\n",
              "      border-left-color: var(--fill-color);\n",
              "      border-top-color: var(--fill-color);\n",
              "    }\n",
              "    30% {\n",
              "      border-color: transparent;\n",
              "      border-left-color: var(--fill-color);\n",
              "      border-top-color: var(--fill-color);\n",
              "      border-right-color: var(--fill-color);\n",
              "    }\n",
              "    40% {\n",
              "      border-color: transparent;\n",
              "      border-right-color: var(--fill-color);\n",
              "      border-top-color: var(--fill-color);\n",
              "    }\n",
              "    60% {\n",
              "      border-color: transparent;\n",
              "      border-right-color: var(--fill-color);\n",
              "    }\n",
              "    80% {\n",
              "      border-color: transparent;\n",
              "      border-right-color: var(--fill-color);\n",
              "      border-bottom-color: var(--fill-color);\n",
              "    }\n",
              "    90% {\n",
              "      border-color: transparent;\n",
              "      border-bottom-color: var(--fill-color);\n",
              "    }\n",
              "  }\n",
              "</style>\n",
              "\n",
              "  <script>\n",
              "    async function quickchart(key) {\n",
              "      const quickchartButtonEl =\n",
              "        document.querySelector('#' + key + ' button');\n",
              "      quickchartButtonEl.disabled = true;  // To prevent multiple clicks.\n",
              "      quickchartButtonEl.classList.add('colab-df-spinner');\n",
              "      try {\n",
              "        const charts = await google.colab.kernel.invokeFunction(\n",
              "            'suggestCharts', [key], {});\n",
              "      } catch (error) {\n",
              "        console.error('Error during call to suggestCharts:', error);\n",
              "      }\n",
              "      quickchartButtonEl.classList.remove('colab-df-spinner');\n",
              "      quickchartButtonEl.classList.add('colab-df-quickchart-complete');\n",
              "    }\n",
              "    (() => {\n",
              "      let quickchartButtonEl =\n",
              "        document.querySelector('#df-8243edf1-a075-4b7e-8fcd-6a74011b7106 button');\n",
              "      quickchartButtonEl.style.display =\n",
              "        google.colab.kernel.accessAllowed ? 'block' : 'none';\n",
              "    })();\n",
              "  </script>\n",
              "</div>\n",
              "    </div>\n",
              "  </div>\n"
            ]
          },
          "metadata": {},
          "execution_count": 5
        }
      ]
    },
    {
      "cell_type": "code",
      "source": [
        "train.shape"
      ],
      "metadata": {
        "colab": {
          "base_uri": "https://localhost:8080/"
        },
        "id": "KFt1mgYL_sQu",
        "outputId": "1597e947-8dcd-4a45-ace9-869ffd2edbd0"
      },
      "execution_count": null,
      "outputs": [
        {
          "output_type": "execute_result",
          "data": {
            "text/plain": [
              "(120, 4)"
            ]
          },
          "metadata": {},
          "execution_count": 6
        }
      ]
    },
    {
      "cell_type": "markdown",
      "source": [
        "input function"
      ],
      "metadata": {
        "id": "Ww02keYW_yzm"
      }
    },
    {
      "cell_type": "code",
      "source": [
        "def input_fn(features, labels,training=True,batch_size=256):\n",
        "  # convert the inputs to a Dataset\n",
        "  dataset = tf.data.Dataset.from_tensor_slices((dict(features), labels))\n",
        "\n",
        "  # shuffle and repeat if you are in training mode\n",
        "  if training:\n",
        "    dataset = dataset.shuffle(1000).repeat()\n",
        "\n",
        "  return dataset.batch(batch_size)"
      ],
      "metadata": {
        "id": "nZLzaPx5_5o2"
      },
      "execution_count": null,
      "outputs": []
    },
    {
      "cell_type": "code",
      "source": [
        "my_feature_columns = []\n",
        "for key in train.keys():\n",
        "  my_feature_columns.append(tf.feature_column.numeric_column(key=key))\n",
        "print(my_feature_columns)"
      ],
      "metadata": {
        "colab": {
          "base_uri": "https://localhost:8080/"
        },
        "id": "D77dofrzBmBN",
        "outputId": "a6f5371f-cd5f-40b0-d35d-cb84ea213b8d"
      },
      "execution_count": null,
      "outputs": [
        {
          "output_type": "stream",
          "name": "stderr",
          "text": [
            "WARNING:tensorflow:From <ipython-input-8-3ea291f1e6ad>:3: numeric_column (from tensorflow.python.feature_column.feature_column_v2) is deprecated and will be removed in a future version.\n",
            "Instructions for updating:\n",
            "Use Keras preprocessing layers instead, either directly or via the `tf.keras.utils.FeatureSpace` utility. Each of `tf.feature_column.*` has a functional equivalent in `tf.keras.layers` for feature preprocessing when training a Keras model.\n"
          ]
        },
        {
          "output_type": "stream",
          "name": "stdout",
          "text": [
            "[NumericColumn(key='SepalLength', shape=(1,), default_value=None, dtype=tf.float32, normalizer_fn=None), NumericColumn(key='SepalWidth', shape=(1,), default_value=None, dtype=tf.float32, normalizer_fn=None), NumericColumn(key='PetalLength', shape=(1,), default_value=None, dtype=tf.float32, normalizer_fn=None), NumericColumn(key='PetalWidth', shape=(1,), default_value=None, dtype=tf.float32, normalizer_fn=None)]\n"
          ]
        }
      ]
    },
    {
      "cell_type": "markdown",
      "source": [
        "#Building the Model\n",
        "\n",
        "\n",
        "*   DNNClassifier\n",
        "*   LinearClassifier\n",
        "\n",
        "\n"
      ],
      "metadata": {
        "id": "MNNceluWChQR"
      }
    },
    {
      "cell_type": "code",
      "source": [
        "from tensorflow_estimator.python.estimator.canned.linear import feature_column\n",
        "# Build a DNN with 2 hidden layers with 30 and 10 hidden nodes each\n",
        "classifier = tf.estimator.DNNClassifier(\n",
        "    feature_columns = my_feature_columns,\n",
        "    # Two hidden network of 30 and 10 each\n",
        "    hidden_units=[30,10],\n",
        "    # The model must choose between 3 classes\n",
        "    n_classes = 3\n",
        ")"
      ],
      "metadata": {
        "colab": {
          "base_uri": "https://localhost:8080/"
        },
        "id": "RLdyhW1_FO7x",
        "outputId": "bf72e1ea-23a7-46c8-db36-7515d15b4cea"
      },
      "execution_count": null,
      "outputs": [
        {
          "output_type": "stream",
          "name": "stderr",
          "text": [
            "WARNING:tensorflow:From <ipython-input-10-90fa369193bb>:3: DNNClassifierV2.__init__ (from tensorflow_estimator.python.estimator.canned.dnn) is deprecated and will be removed in a future version.\n",
            "Instructions for updating:\n",
            "Use tf.keras instead.\n",
            "WARNING:tensorflow:From /usr/local/lib/python3.10/dist-packages/tensorflow_estimator/python/estimator/head/head_utils.py:59: MultiClassHead.__init__ (from tensorflow_estimator.python.estimator.head.multi_class_head) is deprecated and will be removed in a future version.\n",
            "Instructions for updating:\n",
            "Use tf.keras instead.\n",
            "WARNING:tensorflow:From /usr/local/lib/python3.10/dist-packages/tensorflow_estimator/python/estimator/canned/dnn.py:759: Estimator.__init__ (from tensorflow_estimator.python.estimator.estimator) is deprecated and will be removed in a future version.\n",
            "Instructions for updating:\n",
            "Use tf.keras instead.\n",
            "WARNING:tensorflow:From /usr/local/lib/python3.10/dist-packages/tensorflow_estimator/python/estimator/estimator.py:1842: RunConfig.__init__ (from tensorflow_estimator.python.estimator.run_config) is deprecated and will be removed in a future version.\n",
            "Instructions for updating:\n",
            "Use tf.keras instead.\n",
            "WARNING:tensorflow:Using temporary folder as model directory: /tmp/tmpyls6oyw2\n"
          ]
        }
      ]
    },
    {
      "cell_type": "markdown",
      "source": [
        "Training"
      ],
      "metadata": {
        "id": "FmZpevFCGXnh"
      }
    },
    {
      "cell_type": "code",
      "source": [
        "classifier.train(\n",
        "    input_fn=lambda: input_fn(train, train_y, training=True),\n",
        "    steps=5000)"
      ],
      "metadata": {
        "id": "mJGFpoKfBVOe",
        "colab": {
          "base_uri": "https://localhost:8080/"
        },
        "outputId": "a4647d6b-1d47-46bf-a6d5-d88b6042f3e2"
      },
      "execution_count": null,
      "outputs": [
        {
          "output_type": "stream",
          "name": "stderr",
          "text": [
            "WARNING:tensorflow:It seems that global step (tf.train.get_global_step) has not been increased. Current value (could be stable): 12439 vs previous value: 12439. You could increase the global step by passing tf.train.get_global_step() to Optimizer.apply_gradients or Optimizer.minimize.\n",
            "WARNING:tensorflow:It seems that global step (tf.train.get_global_step) has not been increased. Current value (could be stable): 13361 vs previous value: 13361. You could increase the global step by passing tf.train.get_global_step() to Optimizer.apply_gradients or Optimizer.minimize.\n",
            "WARNING:tensorflow:It seems that global step (tf.train.get_global_step) has not been increased. Current value (could be stable): 13401 vs previous value: 13401. You could increase the global step by passing tf.train.get_global_step() to Optimizer.apply_gradients or Optimizer.minimize.\n"
          ]
        },
        {
          "output_type": "execute_result",
          "data": {
            "text/plain": [
              "<tensorflow_estimator.python.estimator.canned.dnn.DNNClassifierV2 at 0x7e4dc5cf7cd0>"
            ]
          },
          "metadata": {},
          "execution_count": 16
        }
      ]
    },
    {
      "cell_type": "code",
      "source": [
        "eval_result = classifier.evaluate(\n",
        "    input_fn=lambda: input_fn(test, test_y, training=False))\n",
        "\n",
        "print('\\nTest set accuracy: {accuracy:0.3f}\\n'.format(**eval_result))"
      ],
      "metadata": {
        "colab": {
          "base_uri": "https://localhost:8080/"
        },
        "id": "w6DLO8-HHyUW",
        "outputId": "934d6dcc-72ec-48df-a455-34cc5ce7ed17"
      },
      "execution_count": null,
      "outputs": [
        {
          "output_type": "stream",
          "name": "stdout",
          "text": [
            "\n",
            "Test set accuracy: 0.967\n",
            "\n"
          ]
        }
      ]
    },
    {
      "cell_type": "markdown",
      "source": [
        "Prediction"
      ],
      "metadata": {
        "id": "RtZ0-mXPJhLe"
      }
    },
    {
      "cell_type": "code",
      "source": [
        "def input_fn_pred(features,batch_size=256):\n",
        "  return tf.data.Dataset.from_tensor_slices(dict(features)).batch(batch_size)\n",
        "\n",
        "features = ['SepalLength', 'SepalWidth', 'PetalLength', 'PetalWidth']\n",
        "predict = {}\n",
        "\n",
        "print(\"Please type numeric value as prompted\")\n",
        "for feature in  features:\n",
        "  valid = True\n",
        "  while valid:\n",
        "    val = input(feature + \": \")\n",
        "    if not val.isdigit():\n",
        "      valid = False\n",
        "\n",
        "  predict[feature] = [float(val)]\n",
        "\n",
        "predictions = classifier.predict(input_fn=lambda: input_fn_pred(predict))\n",
        "for pred in predictions:\n",
        "  print(pred)\n",
        "  class_id = pred['class_ids'][0]\n",
        "  probability = pred['probabilities'][class_id]\n",
        "\n",
        "  print('Prediction is \"{}\" ({:.1f}%)'.format(\n",
        "      SPECIES[class_id], 100 * probability\n",
        "  ))"
      ],
      "metadata": {
        "colab": {
          "base_uri": "https://localhost:8080/"
        },
        "id": "fkNC9JReJjrK",
        "outputId": "9b86b3ee-a6f2-40c0-913e-6898c038cc18"
      },
      "execution_count": null,
      "outputs": [
        {
          "output_type": "stream",
          "name": "stdout",
          "text": [
            "Please type numeric value as prompted\n",
            "SepalLength: 1.4\n",
            "SepalWidth: 2.4\n",
            "PetalLength: 3.4\n",
            "PetalWidth: 4.4\n",
            "{'logits': array([-3.7874923, -1.1950837,  1.0234176], dtype=float32), 'probabilities': array([0.00728835, 0.09738632, 0.8953253 ], dtype=float32), 'class_ids': array([2]), 'classes': array([b'2'], dtype=object), 'all_class_ids': array([0, 1, 2], dtype=int32), 'all_classes': array([b'0', b'1', b'2'], dtype=object)}\n",
            "Prediction is \"Virginica\" (89.5%)\n"
          ]
        }
      ]
    },
    {
      "cell_type": "markdown",
      "source": [
        "#Clustering\n",
        "![Screenshot-from-2019-08-09-12-21-43.webp](data:image/webp;base64,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)\n",
        "\n",
        "Choose the number of clusters k\n",
        "\n",
        "The first step in k-means is to pick the number of clusters, k.\n",
        "Select k random points from the data as centroids\n",
        "\n",
        "Next, we randomly select the centroid for each cluster. Let’s say we want to have 2 clusters, so k is equal to 2 here. We then randomly select the centroid:\n",
        "![Screenshot-from-2019-08-09-12-23-55-1.webp](data:image/webp;base64,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)\n",
        "\n",
        "k means\n",
        "Here, the red and green circles represent the centroid for these clusters.\n",
        "Assign all the points to the closest cluster centroid\n",
        "![Screenshot-from-2019-08-09-12-24-35-1.webp](data:image/webp;base64,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)\n",
        "\n",
        "\n",
        "Once we have initialized the centroids, we assign each point to the closest cluster centroid:k means 2\n",
        "Here you can see that the points closer to the red point are assigned to the red cluster, whereas the points closer to the green point are assigned to the green cluster.\n",
        "Recompute the centroids of newly formed clusters\n",
        "![Screenshot-from-2019-08-09-12-26-59-1.webp](data:image/webp;base64,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)\n",
        "\n",
        "\n",
        "Now, once we have assigned all of the points to either cluster, the next step is to compute the centroids of newly formed clusters:\n",
        "k means 3\n",
        "Here, the red and green crosses are the new centroids.\n",
        "Repeat steps 3 and 4\n",
        "\n",
        "We then repeat steps 3 and 4:\n",
        "![Screenshot-from-2019-08-09-12-28-14-1.webp](data:image/webp;base64,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)\n",
        "k means 4\n",
        "The step of computing the centroid and assigning all the points to the cluster based on their distance from the centroid is a single iteration. But wait – when should we stop this process? It can’t run till eternity, right?\n"
      ],
      "metadata": {
        "id": "GK29ZPehPaDH"
      }
    },
    {
      "cell_type": "code",
      "source": [],
      "metadata": {
        "id": "9jZhzjUgPdaQ"
      },
      "execution_count": null,
      "outputs": []
    }
  ]
}