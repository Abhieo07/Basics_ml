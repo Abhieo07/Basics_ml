{
  "nbformat": 4,
  "nbformat_minor": 0,
  "metadata": {
    "colab": {
      "provenance": [],
      "gpuType": "T4",
      "authorship_tag": "ABX9TyPE+M1ie71ZrGMuZwqbEdOS",
      "include_colab_link": true
    },
    "kernelspec": {
      "name": "python3",
      "display_name": "Python 3"
    },
    "language_info": {
      "name": "python"
    },
    "accelerator": "GPU"
  },
  "cells": [
    {
      "cell_type": "markdown",
      "metadata": {
        "id": "view-in-github",
        "colab_type": "text"
      },
      "source": [
        "<a href=\"https://colab.research.google.com/github/Abhieo07/Basics_ml/blob/main/Play_Generator.ipynb\" target=\"_parent\"><img src=\"https://colab.research.google.com/assets/colab-badge.svg\" alt=\"Open In Colab\"/></a>"
      ]
    },
    {
      "cell_type": "markdown",
      "source": [
        "#RNN Play Generator\n",
        "\n",
        "We are going to RNN to generate play. We will simply show the RNN an example of something we want to recreate and it will learn how to write a version of it on it's own. We'll do this using a character predictive model that will take as input a variable length sequence  and predict the next character. We can use the model many times a row with the output from the last prediction as input for the next call to generate a sequence."
      ],
      "metadata": {
        "id": "DAzCalfUeuU_"
      }
    },
    {
      "cell_type": "code",
      "execution_count": 36,
      "metadata": {
        "id": "g8SdKjkKetPc"
      },
      "outputs": [],
      "source": [
        "from tensorflow.keras.preprocessing import sequence\n",
        "import keras\n",
        "import tensorflow as tf\n",
        "import os\n",
        "import numpy as np"
      ]
    },
    {
      "cell_type": "markdown",
      "source": [
        "**Dataset**\n",
        "\n"
      ],
      "metadata": {
        "id": "xCvyNuTpgYaZ"
      }
    },
    {
      "cell_type": "code",
      "source": [
        "path_to_file = tf.keras.utils.get_file('shakespeare.txt', 'https://storage.googleapis.com/download.tensorflow.org/data/shakespeare.txt')"
      ],
      "metadata": {
        "id": "CPOUQCYlgwmc"
      },
      "execution_count": 37,
      "outputs": []
    },
    {
      "cell_type": "markdown",
      "source": [
        "**Loading Your Own Data**\n",
        "\n",
        "To load your own data you'll need to upload a file from below. then you'll need to follow the steps from above but load in this new file instead."
      ],
      "metadata": {
        "id": "fsSz966shclr"
      }
    },
    {
      "cell_type": "code",
      "source": [
        "# from google.colab import files\n",
        "# path_to_file = list(files.upload().keys())[0]"
      ],
      "metadata": {
        "id": "oP-Gsb8Eh6ot"
      },
      "execution_count": 38,
      "outputs": []
    },
    {
      "cell_type": "markdown",
      "source": [
        "**Read Contents of File**\n",
        "\n",
        "Let's look at the contents of the file."
      ],
      "metadata": {
        "id": "cNfo-ywPiVgA"
      }
    },
    {
      "cell_type": "code",
      "source": [
        "# Read, then decode for py2 compat.\n",
        "text = open(path_to_file, 'rb').read().decode(encoding='utf-8')\n",
        "# length of the text is the number of characters in it\n",
        "print('Length of text: {} characters.'.format(len(text)))"
      ],
      "metadata": {
        "colab": {
          "base_uri": "https://localhost:8080/"
        },
        "id": "pwsqcf9Qige9",
        "outputId": "a2d188a0-a8d0-437c-dd65-b472ffdda2f5"
      },
      "execution_count": 39,
      "outputs": [
        {
          "output_type": "stream",
          "name": "stdout",
          "text": [
            "Length of text: 1115394 characters.\n"
          ]
        }
      ]
    },
    {
      "cell_type": "code",
      "source": [
        "# Take a look at first 250 characters in text\n",
        "print(text[:250])"
      ],
      "metadata": {
        "colab": {
          "base_uri": "https://localhost:8080/"
        },
        "id": "m2GQUxx8jLAQ",
        "outputId": "ccc6abc9-5d1d-4036-c46c-9fc6d1ef7faa"
      },
      "execution_count": 40,
      "outputs": [
        {
          "output_type": "stream",
          "name": "stdout",
          "text": [
            "First Citizen:\n",
            "Before we proceed any further, hear me speak.\n",
            "\n",
            "All:\n",
            "Speak, speak.\n",
            "\n",
            "First Citizen:\n",
            "You are all resolved rather to die than to famish?\n",
            "\n",
            "All:\n",
            "Resolved. resolved.\n",
            "\n",
            "First Citizen:\n",
            "First, you know Caius Marcius is chief enemy to the people.\n",
            "\n"
          ]
        }
      ]
    },
    {
      "cell_type": "markdown",
      "source": [
        "**Encoding**\n",
        "\n",
        "We are going encode each character as a different integer."
      ],
      "metadata": {
        "id": "-Fo7Zc9QjYWa"
      }
    },
    {
      "cell_type": "code",
      "source": [
        "vocab = sorted(set(text))\n",
        "# Creating a mapping from unique characters to indices\n",
        "char2idx = {u:i for i,u in enumerate(vocab)}\n",
        "idx2char = np.array(vocab)\n",
        "\n",
        "def text_to_int(text):\n",
        "  return np.array([char2idx[c] for c in text])\n",
        "\n",
        "text_as_int = text_to_int(text)"
      ],
      "metadata": {
        "id": "PQvc_ChXjVr0"
      },
      "execution_count": 41,
      "outputs": []
    },
    {
      "cell_type": "code",
      "source": [
        "# lets look at how part of our text is encoded\n",
        "print(\"Text: \",text[:13])\n",
        "print(\"Encoded: \", text_to_int(text[:13]))"
      ],
      "metadata": {
        "colab": {
          "base_uri": "https://localhost:8080/"
        },
        "id": "JPoIc-47yCX3",
        "outputId": "2e6b7862-d10f-4620-94db-0c4edde24ad6"
      },
      "execution_count": 42,
      "outputs": [
        {
          "output_type": "stream",
          "name": "stdout",
          "text": [
            "Text:  First Citizen\n",
            "Encoded:  [18 47 56 57 58  1 15 47 58 47 64 43 52]\n"
          ]
        }
      ]
    },
    {
      "cell_type": "code",
      "source": [
        "# decode function\n",
        "def int_to_text(ints):\n",
        "  try:\n",
        "    ints = ints.numpy()\n",
        "  except:\n",
        "    pass\n",
        "  return ''.join(idx2char[ints])\n",
        "\n",
        "print(int_to_text(text_as_int[:13]))"
      ],
      "metadata": {
        "colab": {
          "base_uri": "https://localhost:8080/"
        },
        "id": "BebOBQrmzP1u",
        "outputId": "381ecbcc-2c99-47cc-8d39-fca29e4860be"
      },
      "execution_count": 43,
      "outputs": [
        {
          "output_type": "stream",
          "name": "stdout",
          "text": [
            "First Citizen\n"
          ]
        }
      ]
    },
    {
      "cell_type": "markdown",
      "source": [
        "**Creating Training Examples**\n",
        "\n",
        "    input: hell | output: ello"
      ],
      "metadata": {
        "id": "dx7UmkDWzxJM"
      }
    },
    {
      "cell_type": "code",
      "source": [
        "seq_length = 100 # length of sequence for a training example\n",
        "examples_per_epochs = len(text)//(seq_length + 1)\n",
        "\n",
        "# Create training examples / targets\n",
        "char_dataset = tf.data.Dataset.from_tensor_slices(text_as_int)"
      ],
      "metadata": {
        "id": "ca6Zv7em0BS6"
      },
      "execution_count": 44,
      "outputs": []
    },
    {
      "cell_type": "markdown",
      "source": [
        "Next we can use the batch method to turn this stream of characters into batches of desired length"
      ],
      "metadata": {
        "id": "VVv_JQRH0n2P"
      }
    },
    {
      "cell_type": "code",
      "source": [
        "sequences = char_dataset.batch(seq_length+1, drop_remainder=True)"
      ],
      "metadata": {
        "id": "kg8tjvKX02N5"
      },
      "execution_count": 45,
      "outputs": []
    },
    {
      "cell_type": "markdown",
      "source": [
        "Now we need to use these sequences of length 101 and split them into input and output"
      ],
      "metadata": {
        "id": "zlzKnwhQ1KKi"
      }
    },
    {
      "cell_type": "code",
      "source": [
        "def split_input_target(chunk): # for the example: hello\n",
        "  input_text = chunk[:-1] # hell\n",
        "  target_text = chunk[1:] # ello\n",
        "  return input_text, target_text # hell, ello\n",
        "\n",
        "dataset = sequences.map(split_input_target) # we use map to apply the above function to every entry"
      ],
      "metadata": {
        "id": "qU9xYHVC1V02"
      },
      "execution_count": 46,
      "outputs": []
    },
    {
      "cell_type": "code",
      "source": [
        "for x,y in dataset.take(2):\n",
        "  print('\\n\\nEXAMPLE\\n')\n",
        "  print(\"INPUT\")\n",
        "  print(int_to_text(x))\n",
        "  print(\"\\nOUTPUT\")\n",
        "  print(int_to_text(y))"
      ],
      "metadata": {
        "colab": {
          "base_uri": "https://localhost:8080/"
        },
        "id": "nUVoYdAJ2FJJ",
        "outputId": "3ac26ade-9037-4172-83ad-3a720b251bf1"
      },
      "execution_count": 47,
      "outputs": [
        {
          "output_type": "stream",
          "name": "stdout",
          "text": [
            "\n",
            "\n",
            "EXAMPLE\n",
            "\n",
            "INPUT\n",
            "First Citizen:\n",
            "Before we proceed any further, hear me speak.\n",
            "\n",
            "All:\n",
            "Speak, speak.\n",
            "\n",
            "First Citizen:\n",
            "You\n",
            "\n",
            "OUTPUT\n",
            "irst Citizen:\n",
            "Before we proceed any further, hear me speak.\n",
            "\n",
            "All:\n",
            "Speak, speak.\n",
            "\n",
            "First Citizen:\n",
            "You \n",
            "\n",
            "\n",
            "EXAMPLE\n",
            "\n",
            "INPUT\n",
            "are all resolved rather to die than to famish?\n",
            "\n",
            "All:\n",
            "Resolved. resolved.\n",
            "\n",
            "First Citizen:\n",
            "First, you \n",
            "\n",
            "OUTPUT\n",
            "re all resolved rather to die than to famish?\n",
            "\n",
            "All:\n",
            "Resolved. resolved.\n",
            "\n",
            "First Citizen:\n",
            "First, you k\n"
          ]
        }
      ]
    },
    {
      "cell_type": "markdown",
      "source": [
        "Finally we need to make training batches"
      ],
      "metadata": {
        "id": "pg0Bm4Hx3R3L"
      }
    },
    {
      "cell_type": "code",
      "source": [
        "BATCH_SIZE = 64\n",
        "VOCAB_SIZE = len(vocab) # vocab is number of unique characters\n",
        "EMBEDDING_DIM = 256\n",
        "RNN_UNITS = 1024\n",
        "\n",
        "# Buffer size to shuffle the dataset\n",
        "# (TF data is designed to work with possibly infinite sequences,\n",
        "# so it doesn't attempt to shuffle the entire sequence in memory. Instead,\n",
        "# it maintains a buffer in which it shuffle elements).\n",
        "BUFFER_SIZE = 1000\n",
        "\n",
        "data = dataset.shuffle(BUFFER_SIZE).batch(BATCH_SIZE, drop_remainder=True)"
      ],
      "metadata": {
        "id": "Q4fEL0sn3Ycr"
      },
      "execution_count": 48,
      "outputs": []
    },
    {
      "cell_type": "markdown",
      "source": [
        "**Building Model**\n",
        "\n",
        "We will use an embedding layer a LSTM and one dense layer that contains a node for each unique character in our training data. The dense layer will give us a probability distribution over all nodes."
      ],
      "metadata": {
        "id": "ktLhfaPS4uxT"
      }
    },
    {
      "cell_type": "code",
      "source": [
        "def build_model(vocab_size, embedding_dim, rnn_units, batch_size):\n",
        "  model = tf.keras.Sequential([\n",
        "      tf.keras.layers.Embedding(vocab_size, embedding_dim,\n",
        "                                batch_input_shape=[batch_size,None]),\n",
        "      tf.keras.layers.LSTM(rnn_units,\n",
        "                           return_sequences=True,\n",
        "                           stateful=True,\n",
        "                           recurrent_initializer='glorot_uniform'),\n",
        "      tf.keras.layers.Dense(vocab_size)\n",
        "  ])\n",
        "  return model\n",
        "\n",
        "model = build_model(VOCAB_SIZE,EMBEDDING_DIM,RNN_UNITS,BATCH_SIZE)\n",
        "model.summary()"
      ],
      "metadata": {
        "colab": {
          "base_uri": "https://localhost:8080/"
        },
        "id": "ykr6dCYM5d1B",
        "outputId": "e98eaf33-259f-45e7-e21d-33c21314de7b"
      },
      "execution_count": 49,
      "outputs": [
        {
          "output_type": "stream",
          "name": "stdout",
          "text": [
            "Model: \"sequential_2\"\n",
            "_________________________________________________________________\n",
            " Layer (type)                Output Shape              Param #   \n",
            "=================================================================\n",
            " embedding_2 (Embedding)     (64, None, 256)           16640     \n",
            "                                                                 \n",
            " lstm_2 (LSTM)               (64, None, 1024)          5246976   \n",
            "                                                                 \n",
            " dense_2 (Dense)             (64, None, 65)            66625     \n",
            "                                                                 \n",
            "=================================================================\n",
            "Total params: 5,330,241\n",
            "Trainable params: 5,330,241\n",
            "Non-trainable params: 0\n",
            "_________________________________________________________________\n"
          ]
        }
      ]
    },
    {
      "cell_type": "markdown",
      "source": [
        "**Creating a Loss Function**\n",
        "\n",
        "Now we are actually going to create our own loss function for this problem. This is because our model will output a (64,seq_length,65)\n",
        "shaped tensor that represents the probability distribution of each character at each timestep for every sequence in the batch.\n",
        "\n",
        "\n",
        "Howevwe, before we do that let's have a look at a sample input and output from untrained model. This is so we can understand what the model is actually giving us."
      ],
      "metadata": {
        "id": "WoYdFKZb7bzb"
      }
    },
    {
      "cell_type": "code",
      "source": [
        "for input_example_batch, target_example_batch in  data.take(1):\n",
        "  example_batch_predictions = model(input_example_batch) # ask our model for prediction of 1st batch of training data\n",
        "  print(example_batch_predictions.shape, \"# (batch_size, seq_length, vocab_size)\")"
      ],
      "metadata": {
        "colab": {
          "base_uri": "https://localhost:8080/"
        },
        "id": "jknIBYyR8vgt",
        "outputId": "6c5297c2-4682-442c-c240-2c2610dc53c9"
      },
      "execution_count": 50,
      "outputs": [
        {
          "output_type": "stream",
          "name": "stdout",
          "text": [
            "(64, 100, 65) # (batch_size, seq_length, vocab_size)\n"
          ]
        }
      ]
    },
    {
      "cell_type": "code",
      "source": [
        "# we can see that the prediction is an array of array of 64 arrays, one for each entry in the batch\n",
        "print(len(example_batch_predictions))\n",
        "print(example_batch_predictions)"
      ],
      "metadata": {
        "colab": {
          "base_uri": "https://localhost:8080/"
        },
        "id": "VWtsFdtk9pAz",
        "outputId": "468c031d-974d-49ef-b647-d4cb4aa601ca"
      },
      "execution_count": 51,
      "outputs": [
        {
          "output_type": "stream",
          "name": "stdout",
          "text": [
            "64\n",
            "tf.Tensor(\n",
            "[[[ 2.83692591e-03  1.77111174e-03 -2.14785058e-03 ...  1.92721223e-03\n",
            "   -5.26937749e-03 -3.93753313e-03]\n",
            "  [ 2.14448362e-03 -2.98338011e-03 -5.61148021e-03 ...  5.86950919e-03\n",
            "   -7.00313970e-03 -4.33111703e-03]\n",
            "  [ 9.34975920e-04  2.25574896e-03 -6.23774529e-03 ...  5.53878630e-03\n",
            "   -1.26721114e-02 -5.16613433e-03]\n",
            "  ...\n",
            "  [ 2.00874428e-03  5.23186941e-03  8.63040425e-03 ... -4.57914360e-03\n",
            "    6.57539535e-03 -9.69186798e-03]\n",
            "  [-1.75818661e-03  6.69746194e-03  1.36090312e-02 ... -3.79288918e-03\n",
            "    8.36840551e-03 -1.10050775e-02]\n",
            "  [-7.27020111e-03  8.80870037e-03  1.05984528e-02 ...  2.78808852e-03\n",
            "    4.60444391e-03 -1.41241280e-02]]\n",
            "\n",
            " [[ 9.87269683e-04 -2.11464963e-03 -3.29534290e-03 ... -2.53885752e-04\n",
            "    7.22376071e-03 -6.17576856e-03]\n",
            "  [-5.36122266e-03  8.24265997e-04  5.45688672e-04 ...  1.27689005e-03\n",
            "    4.31040488e-03 -1.19175427e-02]\n",
            "  [ 3.41332378e-03  9.55476053e-03 -2.24774424e-03 ... -1.24922092e-03\n",
            "    6.42551435e-03 -9.79508553e-03]\n",
            "  ...\n",
            "  [ 1.44530018e-03  6.50658598e-03  1.52142290e-02 ...  1.41151762e-03\n",
            "    8.26150086e-03 -1.39158620e-02]\n",
            "  [ 6.65836735e-04  7.78804580e-03  9.20576509e-03 ...  6.15569577e-03\n",
            "    8.26293044e-03 -1.09596979e-02]\n",
            "  [ 4.43837419e-03  7.91521557e-03  6.02609478e-03 ...  1.00310997e-03\n",
            "    3.37157329e-03 -6.19121455e-03]]\n",
            "\n",
            " [[ 4.84463759e-03  6.83214515e-04  3.49226804e-03 ... -5.07946592e-03\n",
            "    7.58847687e-03 -1.56979030e-03]\n",
            "  [ 4.01825272e-03  1.19234924e-03  1.77366298e-03 ... -7.57889170e-03\n",
            "    7.16905249e-03 -3.64638679e-03]\n",
            "  [ 9.82834399e-03  9.87802073e-03 -1.62219023e-03 ... -9.34466254e-03\n",
            "    9.20159463e-03 -4.29498684e-03]\n",
            "  ...\n",
            "  [-1.42670865e-03  2.38225353e-03  2.16520065e-03 ...  1.79356919e-03\n",
            "    5.02047129e-03 -8.26868601e-03]\n",
            "  [-5.27244527e-04  1.58769696e-03  1.39191304e-03 ... -2.53452966e-03\n",
            "    3.99672519e-03 -7.66501995e-03]\n",
            "  [-5.06513799e-03  5.53195714e-05 -1.21260469e-03 ... -2.52926722e-03\n",
            "    2.23354204e-04 -9.95227508e-03]]\n",
            "\n",
            " ...\n",
            "\n",
            " [[ 4.84463759e-03  6.83214515e-04  3.49226804e-03 ... -5.07946592e-03\n",
            "    7.58847687e-03 -1.56979030e-03]\n",
            "  [ 6.16736244e-03  7.14425929e-04  4.39913012e-03 ... -4.24344046e-03\n",
            "    2.19923770e-03 -5.33306412e-03]\n",
            "  [ 4.31203470e-03  1.04717410e-03 -2.39389949e-04 ...  3.03504011e-03\n",
            "    2.22435826e-03 -6.33593462e-03]\n",
            "  ...\n",
            "  [-2.68455129e-04  4.77358978e-03  7.14817550e-03 ... -4.47600987e-03\n",
            "   -2.25222018e-03 -4.84873960e-03]\n",
            "  [ 7.72252679e-03  1.26669733e-02  2.87999725e-03 ... -5.23169897e-03\n",
            "    5.54034952e-04 -5.14251878e-03]\n",
            "  [ 8.86516832e-03 -4.90946579e-04  1.70021784e-04 ... -3.68037215e-03\n",
            "   -4.05426649e-03 -7.71448947e-03]]\n",
            "\n",
            " [[ 3.46795516e-03  1.59492996e-03 -1.52342930e-03 ... -4.67355177e-03\n",
            "   -2.77408049e-03  3.37423454e-03]\n",
            "  [-2.40846071e-03  4.73260321e-03 -1.35483034e-03 ...  6.14869699e-04\n",
            "   -3.87280365e-03 -3.88027215e-03]\n",
            "  [-4.58291825e-03  6.22208184e-03  5.14196791e-03 ...  3.27571644e-04\n",
            "   -1.01631950e-03 -6.38737530e-03]\n",
            "  ...\n",
            "  [ 9.17426543e-04  5.39875682e-03 -7.46219885e-04 ...  1.50505383e-03\n",
            "   -4.51635011e-03 -5.04309963e-03]\n",
            "  [ 4.98934928e-03  1.05267763e-02  5.61401830e-04 ...  6.62289467e-03\n",
            "   -4.23325552e-03 -6.73054159e-03]\n",
            "  [ 2.21423246e-03  7.91809987e-03 -3.03914864e-03 ...  1.04236975e-02\n",
            "   -2.89858878e-03 -5.13428729e-03]]\n",
            "\n",
            " [[ 7.20810494e-04 -3.59658152e-05 -1.17534189e-03 ... -3.56260897e-03\n",
            "    7.00159231e-04 -2.03422457e-03]\n",
            "  [ 1.80463213e-03 -2.14936258e-03 -4.39732336e-03 ... -3.34878685e-03\n",
            "    7.31943594e-03 -7.80578144e-03]\n",
            "  [-4.46858630e-03  8.87666363e-04 -2.78459047e-04 ... -1.44155789e-03\n",
            "    4.01559565e-03 -1.33311870e-02]\n",
            "  ...\n",
            "  [ 7.46026263e-03  7.47146085e-04 -3.07365786e-04 ... -1.18672429e-02\n",
            "    7.58609269e-03 -1.21267214e-02]\n",
            "  [ 1.23628834e-02  9.45040956e-03 -3.16420617e-03 ... -1.31488480e-02\n",
            "    1.00473743e-02 -1.12119634e-02]\n",
            "  [ 1.40675958e-02  7.69194495e-03  1.09749567e-03 ... -1.58076137e-02\n",
            "    1.58196799e-02 -1.09888352e-02]]], shape=(64, 100, 65), dtype=float32)\n"
          ]
        }
      ]
    },
    {
      "cell_type": "code",
      "source": [
        "# lets examine one prediction\n",
        "pred = example_batch_predictions[0]\n",
        "print(len(pred))\n",
        "print(pred)\n",
        "# notice this a 2d array of length 100, where each interior array is the prediction for the next character at each state"
      ],
      "metadata": {
        "colab": {
          "base_uri": "https://localhost:8080/"
        },
        "id": "m2pdhkGo-GK3",
        "outputId": "2cb716d6-15f1-44cb-d06a-1d6e7a1291d3"
      },
      "execution_count": 52,
      "outputs": [
        {
          "output_type": "stream",
          "name": "stdout",
          "text": [
            "100\n",
            "tf.Tensor(\n",
            "[[ 0.00283693  0.00177111 -0.00214785 ...  0.00192721 -0.00526938\n",
            "  -0.00393753]\n",
            " [ 0.00214448 -0.00298338 -0.00561148 ...  0.00586951 -0.00700314\n",
            "  -0.00433112]\n",
            " [ 0.00093498  0.00225575 -0.00623775 ...  0.00553879 -0.01267211\n",
            "  -0.00516613]\n",
            " ...\n",
            " [ 0.00200874  0.00523187  0.0086304  ... -0.00457914  0.0065754\n",
            "  -0.00969187]\n",
            " [-0.00175819  0.00669746  0.01360903 ... -0.00379289  0.00836841\n",
            "  -0.01100508]\n",
            " [-0.0072702   0.0088087   0.01059845 ...  0.00278809  0.00460444\n",
            "  -0.01412413]], shape=(100, 65), dtype=float32)\n"
          ]
        }
      ]
    },
    {
      "cell_type": "code",
      "source": [
        "# and finally we'll look at a prediction at the first timestep\n",
        "time_pred = pred[0]\n",
        "print(len(time_pred))\n",
        "print(time_pred)"
      ],
      "metadata": {
        "colab": {
          "base_uri": "https://localhost:8080/"
        },
        "id": "iE6_Cai3_sVV",
        "outputId": "a9962d6f-d8fa-42f6-ae29-753feda2b058"
      },
      "execution_count": 53,
      "outputs": [
        {
          "output_type": "stream",
          "name": "stdout",
          "text": [
            "65\n",
            "tf.Tensor(\n",
            "[ 2.8369259e-03  1.7711117e-03 -2.1478506e-03  7.4027380e-04\n",
            "  2.4220231e-04 -3.6946347e-03 -1.1471356e-03 -1.1030131e-03\n",
            " -6.8294653e-03 -2.6284901e-03 -6.0392311e-04 -5.2380105e-03\n",
            "  3.1472077e-03  3.0842719e-03  7.2007459e-03  3.1593363e-03\n",
            " -3.5951447e-03 -2.1588565e-03  2.7275572e-03  2.2456492e-03\n",
            " -1.0777775e-03  1.6110386e-03  6.1599916e-04 -1.5882589e-04\n",
            "  2.3725384e-03 -1.3883115e-03  3.2173158e-03 -9.4944006e-04\n",
            "  4.1671251e-03 -2.6755799e-03  2.5629469e-03  4.1337742e-05\n",
            " -5.7050167e-04  1.3731166e-03 -2.3633330e-03 -2.1147784e-03\n",
            "  1.8921886e-04  8.9884119e-04 -6.2549737e-04  3.0041668e-03\n",
            " -8.3092536e-04 -1.9122225e-03  2.8508413e-03 -2.1663192e-04\n",
            " -1.6890892e-03  2.0580641e-03  1.9130351e-03 -4.9918313e-03\n",
            " -1.9067647e-03  6.1703911e-03  4.3750275e-03 -3.0608784e-04\n",
            " -1.1495260e-03 -3.8898939e-03  3.9929547e-03  5.8299261e-03\n",
            "  3.2487740e-03 -1.8145121e-04 -3.2204648e-03 -4.0315660e-03\n",
            "  6.8684639e-03 -1.2727323e-04  1.9272122e-03 -5.2693775e-03\n",
            " -3.9375331e-03], shape=(65,), dtype=float32)\n"
          ]
        }
      ]
    },
    {
      "cell_type": "code",
      "source": [
        "# If we want to determine the predicted character we need to sample the output distribution (pick a value based on probability)\n",
        "sampled_indices = tf.random.categorical(pred, num_samples=1)\n",
        "\n",
        "# now we can reshape that array and convert all the integers to numbers to see the actual charcters\n",
        "sampled_indices = np.reshape(sampled_indices, (1,-1))[0]\n",
        "predicted_chars = int_to_text(sampled_indices)\n",
        "\n",
        "predicted_chars # and this is what the model predicted for the training sequences 1"
      ],
      "metadata": {
        "colab": {
          "base_uri": "https://localhost:8080/",
          "height": 52
        },
        "id": "0ThsSN-XALl9",
        "outputId": "da38922f-d32e-4089-904e-f4cd84892c3c"
      },
      "execution_count": 54,
      "outputs": [
        {
          "output_type": "execute_result",
          "data": {
            "text/plain": [
              "\"Veq!tAYxYReVrn:mu3WLVlMpd:mNZqoZVAHldA:'h&w?FA,!\\nRj&j&O.Iw'LXFJIo?:gr:;?bgr!BHEhHAAq'-GXZTqrpA&B.ZYi\""
            ],
            "application/vnd.google.colaboratory.intrinsic+json": {
              "type": "string"
            }
          },
          "metadata": {},
          "execution_count": 54
        }
      ]
    },
    {
      "cell_type": "markdown",
      "source": [
        "So now we need to create a loss function that can compare that output to the expected output and give us some numeric value representing how close the two were."
      ],
      "metadata": {
        "id": "f1ZKwOsyBvDV"
      }
    },
    {
      "cell_type": "code",
      "source": [
        "def loss(labels, logits):\n",
        "  return tf.keras.losses.sparse_categorical_crossentropy(labels, logits, from_logits=True)"
      ],
      "metadata": {
        "id": "Xmv5Y6KgCKvV"
      },
      "execution_count": 55,
      "outputs": []
    },
    {
      "cell_type": "markdown",
      "source": [
        "**Compiling the model**\n",
        "\n",
        "At this point we can think of our problem as a classification problem where the model predicts the probability of each unique letter comming next."
      ],
      "metadata": {
        "id": "HRGm37dbCd3b"
      }
    },
    {
      "cell_type": "code",
      "source": [
        "model.compile(optimizer='adam', loss = loss)"
      ],
      "metadata": {
        "id": "E6jz7gtdDHL2"
      },
      "execution_count": 56,
      "outputs": []
    },
    {
      "cell_type": "markdown",
      "source": [
        "**Creating Chackpoints**\n",
        "\n",
        "This will allow us to load our model from a checkpoint and continue training it."
      ],
      "metadata": {
        "id": "PvwYZVlODRM7"
      }
    },
    {
      "cell_type": "code",
      "source": [
        "# Directory where the checkpoints will be saved\n",
        "checkpoint_dir = './training_checkpoints'\n",
        "# Name of the checkpoint files\n",
        "checkpoint_prefix = os.path.join(checkpoint_dir, 'ckpt_{epoch}')\n",
        "\n",
        "checkpoint_callback=tf.keras.callbacks.ModelCheckpoint(\n",
        "    filepath=checkpoint_prefix,\n",
        "    save_weights_only=True\n",
        ")"
      ],
      "metadata": {
        "id": "pHII0W0HDn92"
      },
      "execution_count": 57,
      "outputs": []
    },
    {
      "cell_type": "markdown",
      "source": [
        "**Training**"
      ],
      "metadata": {
        "id": "jXioepXoFFcj"
      }
    },
    {
      "cell_type": "code",
      "source": [
        "history = model.fit(data,epochs=50,callbacks=[checkpoint_callback])"
      ],
      "metadata": {
        "colab": {
          "base_uri": "https://localhost:8080/"
        },
        "id": "sF-08x_5FJe0",
        "outputId": "de570546-e354-4a1e-e49d-e00e175c5632"
      },
      "execution_count": 58,
      "outputs": [
        {
          "output_type": "stream",
          "name": "stdout",
          "text": [
            "Epoch 1/10\n",
            "172/172 [==============================] - 14s 68ms/step - loss: 2.5997\n",
            "Epoch 2/10\n",
            "172/172 [==============================] - 11s 64ms/step - loss: 1.9204\n",
            "Epoch 3/10\n",
            "172/172 [==============================] - 12s 65ms/step - loss: 1.6742\n",
            "Epoch 4/10\n",
            "172/172 [==============================] - 11s 65ms/step - loss: 1.5299\n",
            "Epoch 5/10\n",
            "172/172 [==============================] - 11s 65ms/step - loss: 1.4422\n",
            "Epoch 6/10\n",
            "172/172 [==============================] - 12s 66ms/step - loss: 1.3814\n",
            "Epoch 7/10\n",
            "172/172 [==============================] - 12s 67ms/step - loss: 1.3347\n",
            "Epoch 8/10\n",
            "172/172 [==============================] - 12s 68ms/step - loss: 1.2941\n",
            "Epoch 9/10\n",
            "172/172 [==============================] - 12s 68ms/step - loss: 1.2575\n",
            "Epoch 10/10\n",
            "172/172 [==============================] - 12s 67ms/step - loss: 1.2216\n"
          ]
        }
      ]
    },
    {
      "cell_type": "markdown",
      "source": [
        "Loading the model"
      ],
      "metadata": {
        "id": "7xuuRnkIGVqV"
      }
    },
    {
      "cell_type": "code",
      "source": [
        "model = build_model(VOCAB_SIZE, EMBEDDING_DIM, RNN_UNITS, batch_size=1)"
      ],
      "metadata": {
        "id": "FsOYyXN1GUY-"
      },
      "execution_count": 59,
      "outputs": []
    },
    {
      "cell_type": "code",
      "source": [
        "model.load_weights(tf.train.latest_checkpoint(checkpoint_dir))\n",
        "model.build(tf.TensorShape([1,None]))"
      ],
      "metadata": {
        "id": "USet6867GoEt"
      },
      "execution_count": 62,
      "outputs": []
    },
    {
      "cell_type": "code",
      "source": [
        "checkpoint_num = 10\n",
        "model.load_weights(tf.train.load_checkpoint(\"./training_checkpoints/ckpt_\"+str(checkpoint_num)))\n",
        "model.build(tf.TensorShape([1,None]))"
      ],
      "metadata": {
        "id": "z69_3ZZ0HEPO"
      },
      "execution_count": null,
      "outputs": []
    },
    {
      "cell_type": "markdown",
      "source": [
        "Generating Text"
      ],
      "metadata": {
        "id": "M7I-iSk6InQU"
      }
    },
    {
      "cell_type": "code",
      "source": [
        "def generate_text(model, start_string):\n",
        "  num_generate = 800 # number of characters to generate\n",
        "\n",
        "  # Converting our start string to numbers (vectorizing)\n",
        "  input_eval = [char2idx[s] for s in start_string]\n",
        "  input_eval = tf.expand_dims(input_eval, 0)\n",
        "\n",
        "  # Empty string to store our results\n",
        "  text_generated = []\n",
        "\n",
        "  temperature = 1.0\n",
        "\n",
        "  # here batch_size == 1\n",
        "  model.reset_states()\n",
        "  for i in range(num_generate):\n",
        "    predictions = model(input_eval)\n",
        "    # remove the batch dimension\n",
        "    predictions = tf.squeeze(predictions, 0)\n",
        "    predictions = predictions/temperature\n",
        "    predicted_id = tf.random.categorical(predictions, num_samples=1)[-1,0].numpy()\n",
        "    input_eval = tf.expand_dims([predicted_id], 0)\n",
        "\n",
        "    text_generated.append(idx2char[predicted_id])\n",
        "\n",
        "  return (start_string + ''.join(text_generated))"
      ],
      "metadata": {
        "id": "IAmmB7PiImp_"
      },
      "execution_count": 67,
      "outputs": []
    },
    {
      "cell_type": "code",
      "source": [
        "inp = input(\"Type a strating string: \")\n",
        "print(generate_text(model, inp))"
      ],
      "metadata": {
        "colab": {
          "base_uri": "https://localhost:8080/"
        },
        "id": "8mlRMsZ_L_wn",
        "outputId": "0aa4bce3-af14-45e0-b163-3988a7cddf41"
      },
      "execution_count": 69,
      "outputs": [
        {
          "output_type": "stream",
          "name": "stdout",
          "text": [
            "Type a strating string: hello\n",
            "hellos:\n",
            "If namer, not yimphed wetch, be gone.\n",
            "\n",
            "PROSPERO:\n",
            "Cas your sheep Henry blemish'd,\n",
            "As thou three-bear'd tyranny---\n",
            "To take the blood; is this behavior so much.\n",
            "\n",
            "STRANUS:\n",
            "Nurse!\n",
            "\n",
            "ARIEL:\n",
            "No dount with heaven above it. Anbertant, I\n",
            "art thift her, lounds.\n",
            "\n",
            "ARTONIO:\n",
            "Take thy love.\n",
            "\n",
            "Lord:\n",
            "How now! I am lost, and sure'd; what thou this sadditymen gates,\n",
            "Which thou hast born'd to figning in his trowness:\n",
            "A mortal match; I'll cut our world.\n",
            "\n",
            "ANTONIO:\n",
            "He is har these fires so groundful kingrance.\n",
            "\n",
            "DUKE VINCENTIO:\n",
            "And so helceforth o' the world.\n",
            "\n",
            "Provost:\n",
            "Having of us; must.\n",
            "\n",
            "GRUMIO:\n",
            "O False, now, sir, his name of Nos mercy?\n",
            "\n",
            "LUCENTIO:\n",
            "I pray thee; a saily countenance came;\n",
            "Mistressed means to lie, alasks, we would cban forth\n",
            "Sear madam, and put by colours virtuous sound\n",
            "Is a boar e'er done. What th\n"
          ]
        }
      ]
    }
  ]
}